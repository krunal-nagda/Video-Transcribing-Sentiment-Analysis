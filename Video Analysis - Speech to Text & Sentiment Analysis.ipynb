{
 "cells": [
  {
   "cell_type": "markdown",
   "id": "4f4aae9d",
   "metadata": {},
   "source": [
    "# Transcribing the Video"
   ]
  },
  {
   "cell_type": "code",
   "execution_count": 1,
   "id": "d38970bb",
   "metadata": {},
   "outputs": [
    {
     "name": "stdout",
     "output_type": "stream",
     "text": [
      "Requirement already satisfied: moviepy in c:\\users\\krunal\\anaconda3\\lib\\site-packages (1.0.3)\n",
      "Requirement already satisfied: decorator<5.0,>=4.0.2 in c:\\users\\krunal\\anaconda3\\lib\\site-packages (from moviepy) (4.4.2)\n",
      "Requirement already satisfied: tqdm<5.0,>=4.11.2 in c:\\users\\krunal\\anaconda3\\lib\\site-packages (from moviepy) (4.65.0)\n",
      "Requirement already satisfied: requests<3.0,>=2.8.1 in c:\\users\\krunal\\anaconda3\\lib\\site-packages (from moviepy) (2.32.3)\n",
      "Requirement already satisfied: proglog<=1.0.0 in c:\\users\\krunal\\anaconda3\\lib\\site-packages (from moviepy) (0.1.10)\n",
      "Requirement already satisfied: numpy>=1.17.3 in c:\\users\\krunal\\anaconda3\\lib\\site-packages (from moviepy) (1.24.4)\n",
      "Requirement already satisfied: imageio<3.0,>=2.5 in c:\\users\\krunal\\anaconda3\\lib\\site-packages (from moviepy) (2.26.0)\n",
      "Requirement already satisfied: imageio-ffmpeg>=0.2.0 in c:\\users\\krunal\\anaconda3\\lib\\site-packages (from moviepy) (0.5.1)\n",
      "Requirement already satisfied: pillow>=8.3.2 in c:\\users\\krunal\\anaconda3\\lib\\site-packages (from imageio<3.0,>=2.5->moviepy) (9.4.0)\n",
      "Requirement already satisfied: setuptools in c:\\users\\krunal\\anaconda3\\lib\\site-packages (from imageio-ffmpeg>=0.2.0->moviepy) (68.0.0)\n",
      "Requirement already satisfied: charset-normalizer<4,>=2 in c:\\users\\krunal\\anaconda3\\lib\\site-packages (from requests<3.0,>=2.8.1->moviepy) (2.0.4)\n",
      "Requirement already satisfied: idna<4,>=2.5 in c:\\users\\krunal\\anaconda3\\lib\\site-packages (from requests<3.0,>=2.8.1->moviepy) (3.4)\n",
      "Requirement already satisfied: urllib3<3,>=1.21.1 in c:\\users\\krunal\\anaconda3\\lib\\site-packages (from requests<3.0,>=2.8.1->moviepy) (1.26.16)\n",
      "Requirement already satisfied: certifi>=2017.4.17 in c:\\users\\krunal\\anaconda3\\lib\\site-packages (from requests<3.0,>=2.8.1->moviepy) (2024.7.4)\n",
      "Requirement already satisfied: colorama in c:\\users\\krunal\\anaconda3\\lib\\site-packages (from tqdm<5.0,>=4.11.2->moviepy) (0.4.6)\n",
      "Requirement already satisfied: pydub in c:\\users\\krunal\\anaconda3\\lib\\site-packages (0.25.1)\n",
      "Requirement already satisfied: SpeechRecognition in c:\\users\\krunal\\anaconda3\\lib\\site-packages (3.10.4)\n",
      "Requirement already satisfied: requests>=2.26.0 in c:\\users\\krunal\\anaconda3\\lib\\site-packages (from SpeechRecognition) (2.32.3)\n",
      "Requirement already satisfied: typing-extensions in c:\\users\\krunal\\anaconda3\\lib\\site-packages (from SpeechRecognition) (4.7.1)\n",
      "Requirement already satisfied: charset-normalizer<4,>=2 in c:\\users\\krunal\\anaconda3\\lib\\site-packages (from requests>=2.26.0->SpeechRecognition) (2.0.4)\n",
      "Requirement already satisfied: idna<4,>=2.5 in c:\\users\\krunal\\anaconda3\\lib\\site-packages (from requests>=2.26.0->SpeechRecognition) (3.4)\n",
      "Requirement already satisfied: urllib3<3,>=1.21.1 in c:\\users\\krunal\\anaconda3\\lib\\site-packages (from requests>=2.26.0->SpeechRecognition) (1.26.16)\n",
      "Requirement already satisfied: certifi>=2017.4.17 in c:\\users\\krunal\\anaconda3\\lib\\site-packages (from requests>=2.26.0->SpeechRecognition) (2024.7.4)\n"
     ]
    }
   ],
   "source": [
    "#Install required libraries\n",
    "!pip install moviepy\n",
    "!pip install pydub\n",
    "!pip install SpeechRecognition"
   ]
  },
  {
   "cell_type": "code",
   "execution_count": 2,
   "id": "fbd2e0f0",
   "metadata": {},
   "outputs": [],
   "source": [
    "#Import required libraries\n",
    "import moviepy.editor as mp\n",
    "from pydub import AudioSegment, effects\n",
    "from pydub.silence import split_on_silence\n",
    "import speech_recognition as sr\n",
    "import numpy as np\n",
    "import pandas as pd\n",
    "import os"
   ]
  },
  {
   "cell_type": "code",
   "execution_count": 3,
   "id": "ab37a107",
   "metadata": {},
   "outputs": [
    {
     "name": "stdout",
     "output_type": "stream",
     "text": [
      "MoviePy - Writing audio in Review2.wav\n"
     ]
    },
    {
     "name": "stderr",
     "output_type": "stream",
     "text": [
      "                                                                      "
     ]
    },
    {
     "name": "stdout",
     "output_type": "stream",
     "text": [
      "MoviePy - Done.\n"
     ]
    },
    {
     "name": "stderr",
     "output_type": "stream",
     "text": [
      "\r"
     ]
    }
   ],
   "source": [
    "# Load the video file\n",
    "video_file = mp.VideoFileClip(\"Review.mp4\")\n",
    "\n",
    "#Extract audio from video\n",
    "audio_file = video_file.audio\n",
    "\n",
    "# Save audio file in wav format in same directory\n",
    "audio_file.write_audiofile(\"Review.wav\")"
   ]
  },
  {
   "cell_type": "code",
   "execution_count": 4,
   "id": "d7a151ac",
   "metadata": {},
   "outputs": [
    {
     "data": {
      "text/plain": [
       "['temp_chunk_0.wav',\n",
       " 'temp_chunk_1.wav',\n",
       " 'temp_chunk_2.wav',\n",
       " 'temp_chunk_3.wav',\n",
       " 'temp_chunk_4.wav',\n",
       " 'temp_chunk_5.wav',\n",
       " 'temp_chunk_6.wav',\n",
       " 'temp_chunk_7.wav',\n",
       " 'temp_chunk_8.wav',\n",
       " 'temp_chunk_9.wav',\n",
       " 'temp_chunk_10.wav',\n",
       " 'temp_chunk_11.wav',\n",
       " 'temp_chunk_12.wav',\n",
       " 'temp_chunk_13.wav',\n",
       " 'temp_chunk_14.wav',\n",
       " 'temp_chunk_15.wav',\n",
       " 'temp_chunk_16.wav',\n",
       " 'temp_chunk_17.wav',\n",
       " 'temp_chunk_18.wav',\n",
       " 'temp_chunk_19.wav',\n",
       " 'temp_chunk_20.wav',\n",
       " 'temp_chunk_21.wav',\n",
       " 'temp_chunk_22.wav',\n",
       " 'temp_chunk_23.wav',\n",
       " 'temp_chunk_24.wav',\n",
       " 'temp_chunk_25.wav',\n",
       " 'temp_chunk_26.wav',\n",
       " 'temp_chunk_27.wav',\n",
       " 'temp_chunk_28.wav']"
      ]
     },
     "execution_count": 4,
     "metadata": {},
     "output_type": "execute_result"
    }
   ],
   "source": [
    "#Defining a function to split audio based on silence\n",
    "\n",
    "def split_audio(filepath):\n",
    "    audio = AudioSegment.from_wav(filepath)\n",
    "    normalized_audio = effects.normalize(audio)   #Normalize audio to reduce volumn variance in the audio\n",
    "    chunks = split_on_silence(\n",
    "        normalized_audio,\n",
    "        min_silence_len = 250,\n",
    "        silence_thresh = audio.dBFS - 16\n",
    "    )\n",
    "    \n",
    "    chunk_paths = []\n",
    "    for i, chunk in enumerate(chunks):\n",
    "        chunk_path = f\"temp_chunk_{i}.wav\"\n",
    "        chunk.export(chunk_path, format=\"wav\")\n",
    "        chunk_paths.append(chunk_path)\n",
    "\n",
    "    return chunk_paths\n",
    "\n",
    "#Executing the function\n",
    "split_audio(\"Review.wav\")"
   ]
  },
  {
   "cell_type": "code",
   "execution_count": 5,
   "id": "32b85e73",
   "metadata": {},
   "outputs": [
    {
     "name": "stdout",
     "output_type": "stream",
     "text": [
      "['temp_chunk_0.wav', 'temp_chunk_1.wav', 'temp_chunk_10.wav', 'temp_chunk_11.wav', 'temp_chunk_12.wav', 'temp_chunk_13.wav', 'temp_chunk_14.wav', 'temp_chunk_15.wav', 'temp_chunk_16.wav', 'temp_chunk_17.wav', 'temp_chunk_18.wav', 'temp_chunk_19.wav', 'temp_chunk_2.wav', 'temp_chunk_20.wav', 'temp_chunk_21.wav', 'temp_chunk_22.wav', 'temp_chunk_23.wav', 'temp_chunk_24.wav', 'temp_chunk_25.wav', 'temp_chunk_26.wav', 'temp_chunk_27.wav', 'temp_chunk_28.wav', 'temp_chunk_3.wav', 'temp_chunk_4.wav', 'temp_chunk_5.wav', 'temp_chunk_6.wav', 'temp_chunk_7.wav', 'temp_chunk_8.wav', 'temp_chunk_9.wav']\n"
     ]
    }
   ],
   "source": [
    "# Creating a list of the temporary chunk audio files\n",
    "file_list = [filename for filename in os.listdir('.') if filename.startswith(\"temp_chunk_\")]\n",
    "print(file_list)"
   ]
  },
  {
   "cell_type": "code",
   "execution_count": 6,
   "id": "7e24cf6e",
   "metadata": {},
   "outputs": [
    {
     "name": "stdout",
     "output_type": "stream",
     "text": [
      "['hello folks this is it energy from a spider.com and today we are going to talk about the infinix Note 7 smartphone', 'on the right hand side is a power button which has the fingerprint scanner on the inside', 'along with the volume', 'fingerprint scanner for this one is really fast and worked almost every time with a single', 'I found that to be great as', 'at the back is a quad camera mo', \"on the left hand side is the simplest slot which houses are dedicated Micro SD card slot also get a quad LED flash on the back and I found that this one gets much is quite easily round camera module at the back is resistant to scratch variant year so that's also pretty good in terms of network capacity extra it's a dual voltage Wi-Fi enable smart phone so that's something which I particularly like it does not scheme part on any of the network things you can even have access to 5 GHz Wi-Fi on the smartphone so that something good in this price range a lot of Smart Phones to that so that's present here in terms of the UI are found that there was some embedded bloatware and add where in the smartphone they can be disabled so that's not a big issue is also smart panel on the inside and if I talk about the camera it comes to the 48 megapixel AI Quad camera setup which does pixel winning so that you get a final term mega pixel image which is much better and much Shar\", 'I found this is one of the best cameras in this price', 'and you can take a look at all of the samples that we shot some of them were in very harsh lighting conditions and even then the HDR for the smartphone worked really nice is also 2 megapixel macro Camera sensor over here', 'overall image quality was really pleas', \"and if you somebody who's out there to buy a camera smartphone on a budget will be impressed by the overall camera quality as well as the selfie camera for the smartphone\", \"so guys let's go start with unboxing process this is the box for the Note 7 smartphone at the back there are a lot of details about this one is also the star value written on the box it\", \"in this particular price point 11450 is one of the better camera smartphones out there even in terms of the overall design I found that it was easy to hold despite the fact that it's a really huge smartphone there are three colour options we like the Bolivia blue the best on the inside it comes to the MediaTek helio g70 chipset only the redmi 9 Prime has a better chipset and this one in this price range read write storage speed is\", \"but it's not really too fast but it's good enough for a normal day to day usage it won't like that much you can play games like pubg on smooth and Ultra settings on the smartphone but for really hard core gaming I won't recommend the smartphone but if you are somewhat of a casual gamer you would like the smartphone it runs most of the games with\", 'on low to medium settings', \"was also pretty smooth so that's not an issue also add to that the fact that it comes with the HD plus displays of the GPU does not have to push so many pixels so you get better FPS on almost all of the games overall I felt that this device is one of the better device is out there for the price of around 11450 its definitely a steel and it comes to the 5000 image battery I was easily getting around 1.5 to 2 days of battery life even with heavy usage and if somebody who is going to call a lot of people if you are going to game a\", \"even then you get a better battery life compared to a lot for the smartphones are there all of these balls download the fact that it's a better Optimizer smartphone this time around even though I don't personally like their access experience that much still I found that they have optimised it to a huge degree this\", 'any food disable a lot of', 'bundled push notifications and some of the hardware etc', 'is one of the better multimedia experience smartphones', 'suggest for this video in case you like this wonderful photos and two subscribe awesome take videos like this one and guys no matter what you do stains party wise', 'please open the shop inside you get the smartphone it has a very nice glossy back nice finish on the back you get a fast 18 watt charger inside the box for this', 'is the micro USB cable along with the charging module which is the X charge mo', 'and it gives you', 'nice 18 watt current and you get', \"warranty card user manual everything else on the inside along with the tpu cover for this one and the screen protector module let's talk about the building design first the display for the smartphone is a 6.95 inch HD plus pinhole display and 91.5 % screen to body ratio 720 by 1640 pixel resolution for this one I found the viewing angles to be great and even for content consumption of playing\", 'it was good enough the maximum brightness is a little bit on the lower side if you are out in the sun', \"but still it's good enough for your normal day to day usage and I found that the smartphones display was pretty good for almost everything at the bottom this is 3.5 mm jack the micro USB port in the speaker along with the microphone Ho\"]\n"
     ]
    }
   ],
   "source": [
    "#Initiating Speech Recogniton\n",
    "r = sr.Recognizer()\n",
    "\n",
    "#Trasncribing all the chunk audio files\n",
    "all_text = []\n",
    "for f in file_list:\n",
    "    with sr.AudioFile(f) as source:\n",
    "        #r.adjust_for_ambient_noise(source)   #Removing background noise\n",
    "        data = r.record(source)\n",
    "    os.remove(f)          # Clean up chunk file\n",
    "    try:\n",
    "        text = r.recognize_google(data,key=None, language='en-IN')\n",
    "    except Exception as e:\n",
    "        continue\n",
    "    all_text.append(text)\n",
    "                          \n",
    "print(all_text)"
   ]
  },
  {
   "cell_type": "markdown",
   "id": "ba08b29a",
   "metadata": {},
   "source": [
    "### Above list gives us the transcription of the video (Review.mp4)\n",
    "### Now we move on to Sentiment Analysis"
   ]
  },
  {
   "cell_type": "markdown",
   "id": "e387b828",
   "metadata": {},
   "source": [
    "# Sentiment Analysis"
   ]
  },
  {
   "cell_type": "code",
   "execution_count": 7,
   "id": "2ba41b2e",
   "metadata": {},
   "outputs": [
    {
     "name": "stdout",
     "output_type": "stream",
     "text": [
      "Requirement already satisfied: nltk in c:\\users\\krunal\\anaconda3\\lib\\site-packages (3.8.1)\n",
      "Requirement already satisfied: click in c:\\users\\krunal\\anaconda3\\lib\\site-packages (from nltk) (8.0.4)\n",
      "Requirement already satisfied: joblib in c:\\users\\krunal\\anaconda3\\lib\\site-packages (from nltk) (1.2.0)\n",
      "Requirement already satisfied: regex>=2021.8.3 in c:\\users\\krunal\\anaconda3\\lib\\site-packages (from nltk) (2022.7.9)\n",
      "Requirement already satisfied: tqdm in c:\\users\\krunal\\anaconda3\\lib\\site-packages (from nltk) (4.65.0)\n",
      "Requirement already satisfied: colorama in c:\\users\\krunal\\anaconda3\\lib\\site-packages (from click->nltk) (0.4.6)\n"
     ]
    }
   ],
   "source": [
    "#Install required libraries\n",
    "!pip install nltk"
   ]
  },
  {
   "cell_type": "code",
   "execution_count": 8,
   "id": "89c7a3a9",
   "metadata": {},
   "outputs": [],
   "source": [
    "#Import required libraries\n",
    "import pandas as pd\n",
    "import nltk\n",
    "from nltk.sentiment.vader import SentimentIntensityAnalyzer\n",
    "from nltk.corpus import stopwords\n",
    "from nltk.tokenize import word_tokenize\n",
    "from nltk.stem import WordNetLemmatizer\n",
    "import matplotlib.pyplot as plt"
   ]
  },
  {
   "cell_type": "code",
   "execution_count": 9,
   "id": "bc0f00fb",
   "metadata": {},
   "outputs": [
    {
     "name": "stdout",
     "output_type": "stream",
     "text": [
      "['hello folk energy spider.com today going talk infinix note 7 smartphone', 'right hand side power button fingerprint scanner inside', 'along volume', 'fingerprint scanner one really fast worked almost every time single', 'found great', 'back quad camera mo', \"left hand side simplest slot house dedicated micro sd card slot also get quad led flash back found one get much quite easily round camera module back resistant scratch variant year 's also pretty good term network capacity extra 's dual voltage wi-fi enable smart phone 's something particularly like scheme part network thing even access 5 ghz wi-fi smartphone something good price range lot smart phone 's present term ui found embedded bloatware add smartphone disabled 's big issue also smart panel inside talk camera come 48 megapixel ai quad camera setup pixel winning get final term mega pixel image much better much shar\", 'found one best camera price', 'take look sample shot harsh lighting condition even hdr smartphone worked really nice also 2 megapixel macro camera sensor', 'overall image quality really plea', \"somebody 's buy camera smartphone budget impressed overall camera quality well selfie camera smartphone\", \"guy let 's go start unboxing process box note 7 smartphone back lot detail one also star value written box\", \"particular price point 11450 one better camera smartphones even term overall design found easy hold despite fact 's really huge smartphone three colour option like bolivia blue best inside come mediatek helio g70 chipset redmi 9 prime better chipset one price range read write storage speed\", \"'s really fast 's good enough normal day day usage wo n't like much play game like pubg smooth ultra setting smartphone really hard core gaming wo n't recommend smartphone somewhat casual gamer would like smartphone run game\", 'low medium setting', \"also pretty smooth 's issue also add fact come hd plus display gpu push many pixel get better fps almost game overall felt device one better device price around 11450 definitely steel come 5000 image battery easily getting around 1.5 2 day battery life even heavy usage somebody going call lot people going game\", \"even get better battery life compared lot smartphones ball download fact 's better optimizer smartphone time around even though n't personally like access experience much still found optimised huge degree\", 'food disable lot', 'bundled push notification hardware etc', 'one better multimedia experience smartphones', 'suggest video case like wonderful photo two subscribe awesome take video like one guy matter stain party wise', 'please open shop inside get smartphone nice glossy back nice finish back get fast 18 watt charger inside box', 'micro usb cable along charging module x charge mo', 'give', 'nice 18 watt current get', \"warranty card user manual everything else inside along tpu cover one screen protector module let 's talk building design first display smartphone 6.95 inch hd plus pinhole display 91.5 % screen body ratio 720 1640 pixel resolution one found viewing angle great even content consumption playing\", 'good enough maximum brightness little bit lower side sun', \"still 's good enough normal day day usage found smartphones display pretty good almost everything bottom 3.5 mm jack micro usb port speaker along microphone ho\"]\n"
     ]
    }
   ],
   "source": [
    "# Function to preprocess text data\n",
    "def preprocess_text(text):\n",
    "    # Tokenize the text\n",
    "    tokens = word_tokenize(text.lower())\n",
    "\n",
    "    # Remove stop words\n",
    "    filtered_tokens = [token for token in tokens if token not in stopwords.words('english')]\n",
    "\n",
    "    # Lemmatize the tokens\n",
    "    lemmatizer = WordNetLemmatizer()\n",
    "    lemmatized_tokens = [lemmatizer.lemmatize(token) for token in filtered_tokens]\n",
    "\n",
    "    # Join the tokens back into a string\n",
    "    processed_text = ' '.join(lemmatized_tokens)\n",
    "\n",
    "    return processed_text\n",
    "\n",
    "# Apply the function on all_text\n",
    "\n",
    "all_text_processed = [preprocess_text(final_text) for final_text in all_text]\n",
    "print(all_text_processed)"
   ]
  },
  {
   "cell_type": "code",
   "execution_count": 10,
   "id": "47e3c562",
   "metadata": {},
   "outputs": [
    {
     "name": "stdout",
     "output_type": "stream",
     "text": [
      "{'neg': 0.0, 'neu': 0.811, 'pos': 0.189, 'compound': 0.2732} \n",
      "\n",
      "{'neg': 0.0, 'neu': 0.686, 'pos': 0.314, 'compound': 0.4939} \n",
      "\n",
      "{'neg': 0.0, 'neu': 1.0, 'pos': 0.0, 'compound': 0.0} \n",
      "\n",
      "{'neg': 0.0, 'neu': 1.0, 'pos': 0.0, 'compound': 0.0} \n",
      "\n",
      "{'neg': 0.0, 'neu': 0.196, 'pos': 0.804, 'compound': 0.6249} \n",
      "\n",
      "{'neg': 0.0, 'neu': 1.0, 'pos': 0.0, 'compound': 0.0} \n",
      "\n",
      "{'neg': 0.0, 'neu': 0.724, 'pos': 0.276, 'compound': 0.9862} \n",
      "\n",
      "{'neg': 0.0, 'neu': 0.488, 'pos': 0.512, 'compound': 0.6369} \n",
      "\n",
      "{'neg': 0.132, 'neu': 0.728, 'pos': 0.141, 'compound': 0.0498} \n",
      "\n",
      "{'neg': 0.0, 'neu': 1.0, 'pos': 0.0, 'compound': 0.0} \n",
      "\n",
      "{'neg': 0.0, 'neu': 0.698, 'pos': 0.302, 'compound': 0.6369} \n",
      "\n",
      "{'neg': 0.0, 'neu': 0.882, 'pos': 0.118, 'compound': 0.34} \n",
      "\n",
      "{'neg': 0.0, 'neu': 0.684, 'pos': 0.316, 'compound': 0.9516} \n",
      "\n",
      "{'neg': 0.26, 'neu': 0.64, 'pos': 0.1, 'compound': -0.6703} \n",
      "\n",
      "{'neg': 0.512, 'neu': 0.488, 'pos': 0.0, 'compound': -0.2732} \n",
      "\n",
      "{'neg': 0.0, 'neu': 0.773, 'pos': 0.227, 'compound': 0.9201} \n",
      "\n",
      "{'neg': 0.054, 'neu': 0.609, 'pos': 0.337, 'compound': 0.8804} \n",
      "\n",
      "{'neg': 0.0, 'neu': 1.0, 'pos': 0.0, 'compound': 0.0} \n",
      "\n",
      "{'neg': 0.0, 'neu': 1.0, 'pos': 0.0, 'compound': 0.0} \n",
      "\n",
      "{'neg': 0.0, 'neu': 0.58, 'pos': 0.42, 'compound': 0.4404} \n",
      "\n",
      "{'neg': 0.0, 'neu': 0.358, 'pos': 0.642, 'compound': 0.9565} \n",
      "\n",
      "{'neg': 0.0, 'neu': 0.669, 'pos': 0.331, 'compound': 0.7845} \n",
      "\n",
      "{'neg': 0.0, 'neu': 1.0, 'pos': 0.0, 'compound': 0.0} \n",
      "\n",
      "{'neg': 0.0, 'neu': 1.0, 'pos': 0.0, 'compound': 0.0} \n",
      "\n",
      "{'neg': 0.0, 'neu': 0.588, 'pos': 0.412, 'compound': 0.4215} \n",
      "\n",
      "{'neg': 0.0, 'neu': 0.879, 'pos': 0.121, 'compound': 0.7096} \n",
      "\n",
      "{'neg': 0.143, 'neu': 0.447, 'pos': 0.41, 'compound': 0.5542} \n",
      "\n",
      "{'neg': 0.0, 'neu': 0.719, 'pos': 0.281, 'compound': 0.8402} \n",
      "\n"
     ]
    }
   ],
   "source": [
    "#Initializing Sentiment Intensity Analyzer\n",
    "analyser = SentimentIntensityAnalyzer()\n",
    "\n",
    "#Overview of the findings on all texts\n",
    "for sentence in all_text_processed:\n",
    "    print(analyser.polarity_scores(sentence),\"\\n\")"
   ]
  },
  {
   "cell_type": "code",
   "execution_count": 11,
   "id": "5f885f7d",
   "metadata": {},
   "outputs": [
    {
     "name": "stdout",
     "output_type": "stream",
     "text": [
      "but it's not really too fast but it's good enough for a normal day to day usage it won't like that much you can play games like pubg on smooth and Ultra settings on the smartphone but for really hard core gaming I won't recommend the smartphone but if you are somewhat of a casual gamer you would like the smartphone it runs most of the games with\n",
      "{'neg': 0.26, 'neu': 0.64, 'pos': 0.1, 'compound': -0.6703}\n"
     ]
    }
   ],
   "source": [
    "#Testing on sentence 14\n",
    "print(all_text[13])\n",
    "print(analyser.polarity_scores(all_text_processed[13]))"
   ]
  },
  {
   "cell_type": "code",
   "execution_count": 12,
   "id": "892221c2",
   "metadata": {},
   "outputs": [
    {
     "name": "stdout",
     "output_type": "stream",
     "text": [
      "on low to medium settings\n",
      "{'neg': 0.512, 'neu': 0.488, 'pos': 0.0, 'compound': -0.2732}\n"
     ]
    }
   ],
   "source": [
    "#Testing on sentence 15\n",
    "print(all_text[14])\n",
    "print(analyser.polarity_scores(all_text_processed[14]))"
   ]
  },
  {
   "cell_type": "code",
   "execution_count": 13,
   "id": "82426c76",
   "metadata": {},
   "outputs": [
    {
     "name": "stdout",
     "output_type": "stream",
     "text": [
      "I found this is one of the best cameras in this price\n",
      "{'neg': 0.0, 'neu': 0.488, 'pos': 0.512, 'compound': 0.6369}\n"
     ]
    }
   ],
   "source": [
    "#Testing on sentence 8\n",
    "print(all_text[7])\n",
    "print(analyser.polarity_scores(all_text_processed[7]))"
   ]
  },
  {
   "cell_type": "code",
   "execution_count": 14,
   "id": "b3a946ca",
   "metadata": {},
   "outputs": [
    {
     "name": "stdout",
     "output_type": "stream",
     "text": [
      "      neg    neu    pos  compound\n",
      "0   0.000  0.811  0.189    0.2732\n",
      "1   0.000  0.686  0.314    0.4939\n",
      "2   0.000  1.000  0.000    0.0000\n",
      "3   0.000  1.000  0.000    0.0000\n",
      "4   0.000  0.196  0.804    0.6249\n",
      "5   0.000  1.000  0.000    0.0000\n",
      "6   0.000  0.724  0.276    0.9862\n",
      "7   0.000  0.488  0.512    0.6369\n",
      "8   0.132  0.728  0.141    0.0498\n",
      "9   0.000  1.000  0.000    0.0000\n",
      "10  0.000  0.698  0.302    0.6369\n",
      "11  0.000  0.882  0.118    0.3400\n",
      "12  0.000  0.684  0.316    0.9516\n",
      "13  0.260  0.640  0.100   -0.6703\n",
      "14  0.512  0.488  0.000   -0.2732\n",
      "15  0.000  0.773  0.227    0.9201\n",
      "16  0.054  0.609  0.337    0.8804\n",
      "17  0.000  1.000  0.000    0.0000\n",
      "18  0.000  1.000  0.000    0.0000\n",
      "19  0.000  0.580  0.420    0.4404\n",
      "20  0.000  0.358  0.642    0.9565\n",
      "21  0.000  0.669  0.331    0.7845\n",
      "22  0.000  1.000  0.000    0.0000\n",
      "23  0.000  1.000  0.000    0.0000\n",
      "24  0.000  0.588  0.412    0.4215\n",
      "25  0.000  0.879  0.121    0.7096\n",
      "26  0.143  0.447  0.410    0.5542\n",
      "27  0.000  0.719  0.281    0.8402\n"
     ]
    }
   ],
   "source": [
    "#Storing all polarity scores and creating a data frame\n",
    "scores = []\n",
    "for sentence in all_text_processed:\n",
    "    score = analyser.polarity_scores(sentence)\n",
    "    scores.append(score)\n",
    "    \n",
    "df = pd.DataFrame(scores)\n",
    "print(df)"
   ]
  },
  {
   "cell_type": "code",
   "execution_count": 15,
   "id": "792aa5b3",
   "metadata": {},
   "outputs": [
    {
     "data": {
      "image/png": "[encoded data removed]",
      "text/plain": [
       "<Figure size 640x480 with 1 Axes>"
      ]
     },
     "metadata": {},
     "output_type": "display_data"
    }
   ],
   "source": [
    "#Plotting negative and positive polarity scores against sentence index\n",
    "plt.plot(df.index,df[\"neg\"],\"-r\",label = \"neg\")\n",
    "plt.plot(df.index,df[\"pos\"],\"-g\",label = \"pos\")\n",
    "plt.legend(loc=\"upper right\")\n",
    "plt.show()"
   ]
  },
  {
   "cell_type": "markdown",
   "id": "71ad7bc5",
   "metadata": {},
   "source": [
    "### Clearly mostly the entire review was positive except for the one instance which we see by the peak at index 14"
   ]
  },
  {
   "cell_type": "code",
   "execution_count": 16,
   "id": "29b49658",
   "metadata": {},
   "outputs": [
    {
     "data": {
      "text/html": [
       "<div>\n",
       "<style scoped>\n",
       "    .dataframe tbody tr th:only-of-type {\n",
       "        vertical-align: middle;\n",
       "    }\n",
       "\n",
       "    .dataframe tbody tr th {\n",
       "        vertical-align: top;\n",
       "    }\n",
       "\n",
       "    .dataframe thead th {\n",
       "        text-align: right;\n",
       "    }\n",
       "</style>\n",
       "<table border=\"1\" class=\"dataframe\">\n",
       "  <thead>\n",
       "    <tr style=\"text-align: right;\">\n",
       "      <th></th>\n",
       "      <th>Sentence</th>\n",
       "      <th>neg</th>\n",
       "      <th>neu</th>\n",
       "      <th>pos</th>\n",
       "      <th>compound</th>\n",
       "    </tr>\n",
       "  </thead>\n",
       "  <tbody>\n",
       "    <tr>\n",
       "      <th>0</th>\n",
       "      <td>hello folks this is it energy from a spider.co...</td>\n",
       "      <td>0.0</td>\n",
       "      <td>0.811</td>\n",
       "      <td>0.189</td>\n",
       "      <td>0.2732</td>\n",
       "    </tr>\n",
       "    <tr>\n",
       "      <th>1</th>\n",
       "      <td>on the right hand side is a power button which...</td>\n",
       "      <td>0.0</td>\n",
       "      <td>0.686</td>\n",
       "      <td>0.314</td>\n",
       "      <td>0.4939</td>\n",
       "    </tr>\n",
       "    <tr>\n",
       "      <th>2</th>\n",
       "      <td>along with the volume</td>\n",
       "      <td>0.0</td>\n",
       "      <td>1.000</td>\n",
       "      <td>0.000</td>\n",
       "      <td>0.0000</td>\n",
       "    </tr>\n",
       "    <tr>\n",
       "      <th>3</th>\n",
       "      <td>fingerprint scanner for this one is really fas...</td>\n",
       "      <td>0.0</td>\n",
       "      <td>1.000</td>\n",
       "      <td>0.000</td>\n",
       "      <td>0.0000</td>\n",
       "    </tr>\n",
       "    <tr>\n",
       "      <th>4</th>\n",
       "      <td>I found that to be great as</td>\n",
       "      <td>0.0</td>\n",
       "      <td>0.196</td>\n",
       "      <td>0.804</td>\n",
       "      <td>0.6249</td>\n",
       "    </tr>\n",
       "  </tbody>\n",
       "</table>\n",
       "</div>"
      ],
      "text/plain": [
       "                                            Sentence  neg    neu    pos  \\\n",
       "0  hello folks this is it energy from a spider.co...  0.0  0.811  0.189   \n",
       "1  on the right hand side is a power button which...  0.0  0.686  0.314   \n",
       "2                              along with the volume  0.0  1.000  0.000   \n",
       "3  fingerprint scanner for this one is really fas...  0.0  1.000  0.000   \n",
       "4                        I found that to be great as  0.0  0.196  0.804   \n",
       "\n",
       "   compound  \n",
       "0    0.2732  \n",
       "1    0.4939  \n",
       "2    0.0000  \n",
       "3    0.0000  \n",
       "4    0.6249  "
      ]
     },
     "execution_count": 16,
     "metadata": {},
     "output_type": "execute_result"
    }
   ],
   "source": [
    "#Putting Polarity scores with their corresponding sentences in a dataframe\n",
    "df[\"Sentence\"] = all_text\n",
    "df = df[[\"Sentence\",\"neg\",\"neu\",\"pos\",\"compound\"]]\n",
    "df.head()"
   ]
  },
  {
   "cell_type": "code",
   "execution_count": 17,
   "id": "ba6ef6cc",
   "metadata": {},
   "outputs": [],
   "source": [
    "#Fucntion to deduce the sentiment of a particular sentence\n",
    "def deduce_sentiment(row):\n",
    "    if row[\"neg\"]>row[\"pos\"] and row[\"compound\"]<0:\n",
    "        val = \"Negative\"\n",
    "    elif row[\"neg\"]<row[\"pos\"] and row[\"compound\"]>0:\n",
    "        val = \"Positive\"\n",
    "    else:\n",
    "        val = \"Neutral\"\n",
    "    return val"
   ]
  },
  {
   "cell_type": "code",
   "execution_count": 18,
   "id": "a5d17998",
   "metadata": {},
   "outputs": [
    {
     "data": {
      "text/html": [
       "<div>\n",
       "<style scoped>\n",
       "    .dataframe tbody tr th:only-of-type {\n",
       "        vertical-align: middle;\n",
       "    }\n",
       "\n",
       "    .dataframe tbody tr th {\n",
       "        vertical-align: top;\n",
       "    }\n",
       "\n",
       "    .dataframe thead th {\n",
       "        text-align: right;\n",
       "    }\n",
       "</style>\n",
       "<table border=\"1\" class=\"dataframe\">\n",
       "  <thead>\n",
       "    <tr style=\"text-align: right;\">\n",
       "      <th></th>\n",
       "      <th>Sentence</th>\n",
       "      <th>neg</th>\n",
       "      <th>neu</th>\n",
       "      <th>pos</th>\n",
       "      <th>compound</th>\n",
       "      <th>Sentiment</th>\n",
       "    </tr>\n",
       "  </thead>\n",
       "  <tbody>\n",
       "    <tr>\n",
       "      <th>0</th>\n",
       "      <td>hello folks this is it energy from a spider.co...</td>\n",
       "      <td>0.000</td>\n",
       "      <td>0.811</td>\n",
       "      <td>0.189</td>\n",
       "      <td>0.2732</td>\n",
       "      <td>Positive</td>\n",
       "    </tr>\n",
       "    <tr>\n",
       "      <th>1</th>\n",
       "      <td>on the right hand side is a power button which...</td>\n",
       "      <td>0.000</td>\n",
       "      <td>0.686</td>\n",
       "      <td>0.314</td>\n",
       "      <td>0.4939</td>\n",
       "      <td>Positive</td>\n",
       "    </tr>\n",
       "    <tr>\n",
       "      <th>2</th>\n",
       "      <td>along with the volume</td>\n",
       "      <td>0.000</td>\n",
       "      <td>1.000</td>\n",
       "      <td>0.000</td>\n",
       "      <td>0.0000</td>\n",
       "      <td>Neutral</td>\n",
       "    </tr>\n",
       "    <tr>\n",
       "      <th>3</th>\n",
       "      <td>fingerprint scanner for this one is really fas...</td>\n",
       "      <td>0.000</td>\n",
       "      <td>1.000</td>\n",
       "      <td>0.000</td>\n",
       "      <td>0.0000</td>\n",
       "      <td>Neutral</td>\n",
       "    </tr>\n",
       "    <tr>\n",
       "      <th>4</th>\n",
       "      <td>I found that to be great as</td>\n",
       "      <td>0.000</td>\n",
       "      <td>0.196</td>\n",
       "      <td>0.804</td>\n",
       "      <td>0.6249</td>\n",
       "      <td>Positive</td>\n",
       "    </tr>\n",
       "    <tr>\n",
       "      <th>5</th>\n",
       "      <td>at the back is a quad camera mo</td>\n",
       "      <td>0.000</td>\n",
       "      <td>1.000</td>\n",
       "      <td>0.000</td>\n",
       "      <td>0.0000</td>\n",
       "      <td>Neutral</td>\n",
       "    </tr>\n",
       "    <tr>\n",
       "      <th>6</th>\n",
       "      <td>on the left hand side is the simplest slot whi...</td>\n",
       "      <td>0.000</td>\n",
       "      <td>0.724</td>\n",
       "      <td>0.276</td>\n",
       "      <td>0.9862</td>\n",
       "      <td>Positive</td>\n",
       "    </tr>\n",
       "    <tr>\n",
       "      <th>7</th>\n",
       "      <td>I found this is one of the best cameras in thi...</td>\n",
       "      <td>0.000</td>\n",
       "      <td>0.488</td>\n",
       "      <td>0.512</td>\n",
       "      <td>0.6369</td>\n",
       "      <td>Positive</td>\n",
       "    </tr>\n",
       "    <tr>\n",
       "      <th>8</th>\n",
       "      <td>and you can take a look at all of the samples ...</td>\n",
       "      <td>0.132</td>\n",
       "      <td>0.728</td>\n",
       "      <td>0.141</td>\n",
       "      <td>0.0498</td>\n",
       "      <td>Positive</td>\n",
       "    </tr>\n",
       "    <tr>\n",
       "      <th>9</th>\n",
       "      <td>overall image quality was really pleas</td>\n",
       "      <td>0.000</td>\n",
       "      <td>1.000</td>\n",
       "      <td>0.000</td>\n",
       "      <td>0.0000</td>\n",
       "      <td>Neutral</td>\n",
       "    </tr>\n",
       "    <tr>\n",
       "      <th>10</th>\n",
       "      <td>and if you somebody who's out there to buy a c...</td>\n",
       "      <td>0.000</td>\n",
       "      <td>0.698</td>\n",
       "      <td>0.302</td>\n",
       "      <td>0.6369</td>\n",
       "      <td>Positive</td>\n",
       "    </tr>\n",
       "    <tr>\n",
       "      <th>11</th>\n",
       "      <td>so guys let's go start with unboxing process t...</td>\n",
       "      <td>0.000</td>\n",
       "      <td>0.882</td>\n",
       "      <td>0.118</td>\n",
       "      <td>0.3400</td>\n",
       "      <td>Positive</td>\n",
       "    </tr>\n",
       "    <tr>\n",
       "      <th>12</th>\n",
       "      <td>in this particular price point 11450 is one of...</td>\n",
       "      <td>0.000</td>\n",
       "      <td>0.684</td>\n",
       "      <td>0.316</td>\n",
       "      <td>0.9516</td>\n",
       "      <td>Positive</td>\n",
       "    </tr>\n",
       "    <tr>\n",
       "      <th>13</th>\n",
       "      <td>but it's not really too fast but it's good eno...</td>\n",
       "      <td>0.260</td>\n",
       "      <td>0.640</td>\n",
       "      <td>0.100</td>\n",
       "      <td>-0.6703</td>\n",
       "      <td>Negative</td>\n",
       "    </tr>\n",
       "    <tr>\n",
       "      <th>14</th>\n",
       "      <td>on low to medium settings</td>\n",
       "      <td>0.512</td>\n",
       "      <td>0.488</td>\n",
       "      <td>0.000</td>\n",
       "      <td>-0.2732</td>\n",
       "      <td>Negative</td>\n",
       "    </tr>\n",
       "    <tr>\n",
       "      <th>15</th>\n",
       "      <td>was also pretty smooth so that's not an issue ...</td>\n",
       "      <td>0.000</td>\n",
       "      <td>0.773</td>\n",
       "      <td>0.227</td>\n",
       "      <td>0.9201</td>\n",
       "      <td>Positive</td>\n",
       "    </tr>\n",
       "    <tr>\n",
       "      <th>16</th>\n",
       "      <td>even then you get a better battery life compar...</td>\n",
       "      <td>0.054</td>\n",
       "      <td>0.609</td>\n",
       "      <td>0.337</td>\n",
       "      <td>0.8804</td>\n",
       "      <td>Positive</td>\n",
       "    </tr>\n",
       "    <tr>\n",
       "      <th>17</th>\n",
       "      <td>any food disable a lot of</td>\n",
       "      <td>0.000</td>\n",
       "      <td>1.000</td>\n",
       "      <td>0.000</td>\n",
       "      <td>0.0000</td>\n",
       "      <td>Neutral</td>\n",
       "    </tr>\n",
       "    <tr>\n",
       "      <th>18</th>\n",
       "      <td>bundled push notifications and some of the har...</td>\n",
       "      <td>0.000</td>\n",
       "      <td>1.000</td>\n",
       "      <td>0.000</td>\n",
       "      <td>0.0000</td>\n",
       "      <td>Neutral</td>\n",
       "    </tr>\n",
       "    <tr>\n",
       "      <th>19</th>\n",
       "      <td>is one of the better multimedia experience sma...</td>\n",
       "      <td>0.000</td>\n",
       "      <td>0.580</td>\n",
       "      <td>0.420</td>\n",
       "      <td>0.4404</td>\n",
       "      <td>Positive</td>\n",
       "    </tr>\n",
       "    <tr>\n",
       "      <th>20</th>\n",
       "      <td>suggest for this video in case you like this w...</td>\n",
       "      <td>0.000</td>\n",
       "      <td>0.358</td>\n",
       "      <td>0.642</td>\n",
       "      <td>0.9565</td>\n",
       "      <td>Positive</td>\n",
       "    </tr>\n",
       "    <tr>\n",
       "      <th>21</th>\n",
       "      <td>please open the shop inside you get the smartp...</td>\n",
       "      <td>0.000</td>\n",
       "      <td>0.669</td>\n",
       "      <td>0.331</td>\n",
       "      <td>0.7845</td>\n",
       "      <td>Positive</td>\n",
       "    </tr>\n",
       "    <tr>\n",
       "      <th>22</th>\n",
       "      <td>is the micro USB cable along with the charging...</td>\n",
       "      <td>0.000</td>\n",
       "      <td>1.000</td>\n",
       "      <td>0.000</td>\n",
       "      <td>0.0000</td>\n",
       "      <td>Neutral</td>\n",
       "    </tr>\n",
       "    <tr>\n",
       "      <th>23</th>\n",
       "      <td>and it gives you</td>\n",
       "      <td>0.000</td>\n",
       "      <td>1.000</td>\n",
       "      <td>0.000</td>\n",
       "      <td>0.0000</td>\n",
       "      <td>Neutral</td>\n",
       "    </tr>\n",
       "    <tr>\n",
       "      <th>24</th>\n",
       "      <td>nice 18 watt current and you get</td>\n",
       "      <td>0.000</td>\n",
       "      <td>0.588</td>\n",
       "      <td>0.412</td>\n",
       "      <td>0.4215</td>\n",
       "      <td>Positive</td>\n",
       "    </tr>\n",
       "    <tr>\n",
       "      <th>25</th>\n",
       "      <td>warranty card user manual everything else on t...</td>\n",
       "      <td>0.000</td>\n",
       "      <td>0.879</td>\n",
       "      <td>0.121</td>\n",
       "      <td>0.7096</td>\n",
       "      <td>Positive</td>\n",
       "    </tr>\n",
       "    <tr>\n",
       "      <th>26</th>\n",
       "      <td>it was good enough the maximum brightness is a...</td>\n",
       "      <td>0.143</td>\n",
       "      <td>0.447</td>\n",
       "      <td>0.410</td>\n",
       "      <td>0.5542</td>\n",
       "      <td>Positive</td>\n",
       "    </tr>\n",
       "    <tr>\n",
       "      <th>27</th>\n",
       "      <td>but still it's good enough for your normal day...</td>\n",
       "      <td>0.000</td>\n",
       "      <td>0.719</td>\n",
       "      <td>0.281</td>\n",
       "      <td>0.8402</td>\n",
       "      <td>Positive</td>\n",
       "    </tr>\n",
       "  </tbody>\n",
       "</table>\n",
       "</div>"
      ],
      "text/plain": [
       "                                             Sentence    neg    neu    pos  \\\n",
       "0   hello folks this is it energy from a spider.co...  0.000  0.811  0.189   \n",
       "1   on the right hand side is a power button which...  0.000  0.686  0.314   \n",
       "2                               along with the volume  0.000  1.000  0.000   \n",
       "3   fingerprint scanner for this one is really fas...  0.000  1.000  0.000   \n",
       "4                         I found that to be great as  0.000  0.196  0.804   \n",
       "5                     at the back is a quad camera mo  0.000  1.000  0.000   \n",
       "6   on the left hand side is the simplest slot whi...  0.000  0.724  0.276   \n",
       "7   I found this is one of the best cameras in thi...  0.000  0.488  0.512   \n",
       "8   and you can take a look at all of the samples ...  0.132  0.728  0.141   \n",
       "9              overall image quality was really pleas  0.000  1.000  0.000   \n",
       "10  and if you somebody who's out there to buy a c...  0.000  0.698  0.302   \n",
       "11  so guys let's go start with unboxing process t...  0.000  0.882  0.118   \n",
       "12  in this particular price point 11450 is one of...  0.000  0.684  0.316   \n",
       "13  but it's not really too fast but it's good eno...  0.260  0.640  0.100   \n",
       "14                          on low to medium settings  0.512  0.488  0.000   \n",
       "15  was also pretty smooth so that's not an issue ...  0.000  0.773  0.227   \n",
       "16  even then you get a better battery life compar...  0.054  0.609  0.337   \n",
       "17                          any food disable a lot of  0.000  1.000  0.000   \n",
       "18  bundled push notifications and some of the har...  0.000  1.000  0.000   \n",
       "19  is one of the better multimedia experience sma...  0.000  0.580  0.420   \n",
       "20  suggest for this video in case you like this w...  0.000  0.358  0.642   \n",
       "21  please open the shop inside you get the smartp...  0.000  0.669  0.331   \n",
       "22  is the micro USB cable along with the charging...  0.000  1.000  0.000   \n",
       "23                                   and it gives you  0.000  1.000  0.000   \n",
       "24                   nice 18 watt current and you get  0.000  0.588  0.412   \n",
       "25  warranty card user manual everything else on t...  0.000  0.879  0.121   \n",
       "26  it was good enough the maximum brightness is a...  0.143  0.447  0.410   \n",
       "27  but still it's good enough for your normal day...  0.000  0.719  0.281   \n",
       "\n",
       "    compound Sentiment  \n",
       "0     0.2732  Positive  \n",
       "1     0.4939  Positive  \n",
       "2     0.0000   Neutral  \n",
       "3     0.0000   Neutral  \n",
       "4     0.6249  Positive  \n",
       "5     0.0000   Neutral  \n",
       "6     0.9862  Positive  \n",
       "7     0.6369  Positive  \n",
       "8     0.0498  Positive  \n",
       "9     0.0000   Neutral  \n",
       "10    0.6369  Positive  \n",
       "11    0.3400  Positive  \n",
       "12    0.9516  Positive  \n",
       "13   -0.6703  Negative  \n",
       "14   -0.2732  Negative  \n",
       "15    0.9201  Positive  \n",
       "16    0.8804  Positive  \n",
       "17    0.0000   Neutral  \n",
       "18    0.0000   Neutral  \n",
       "19    0.4404  Positive  \n",
       "20    0.9565  Positive  \n",
       "21    0.7845  Positive  \n",
       "22    0.0000   Neutral  \n",
       "23    0.0000   Neutral  \n",
       "24    0.4215  Positive  \n",
       "25    0.7096  Positive  \n",
       "26    0.5542  Positive  \n",
       "27    0.8402  Positive  "
      ]
     },
     "execution_count": 18,
     "metadata": {},
     "output_type": "execute_result"
    }
   ],
   "source": [
    "#Applying the above funciton on the data frame\n",
    "df[\"Sentiment\"] = df.apply(deduce_sentiment, axis=1)\n",
    "df"
   ]
  },
  {
   "cell_type": "markdown",
   "id": "911683a4",
   "metadata": {},
   "source": [
    "### Finally we have the Sentiments mapped to the corresponding sentences of the review, with only 2 sentences with Negative Sentiments since most reviews were positive reviews."
   ]
  }
 ],
 "metadata": {
  "kernelspec": {
   "display_name": "Python 3 (ipykernel)",
   "language": "python",
   "name": "python3"
  },
  "language_info": {
   "codemirror_mode": {
    "name": "ipython",
    "version": 3
   },
   "file_extension": ".py",
   "mimetype": "text/x-python",
   "name": "python",
   "nbconvert_exporter": "python",
   "pygments_lexer": "ipython3",
   "version": "3.11.4"
  }
 },
 "nbformat": 4,
 "nbformat_minor": 5
}
